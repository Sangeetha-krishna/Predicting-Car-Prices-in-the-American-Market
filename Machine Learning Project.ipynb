{
 "cells": [
  {
   "cell_type": "code",
   "execution_count": 1,
   "id": "388fdffd-e5c3-406a-a0fb-16fd3557c434",
   "metadata": {},
   "outputs": [
    {
     "name": "stdout",
     "output_type": "stream",
     "text": [
      "Dataset Info:\n",
      "<class 'pandas.core.frame.DataFrame'>\n",
      "RangeIndex: 205 entries, 0 to 204\n",
      "Data columns (total 26 columns):\n",
      " #   Column            Non-Null Count  Dtype  \n",
      "---  ------            --------------  -----  \n",
      " 0   car_ID            205 non-null    int64  \n",
      " 1   symboling         205 non-null    int64  \n",
      " 2   CarName           205 non-null    object \n",
      " 3   fueltype          205 non-null    object \n",
      " 4   aspiration        205 non-null    object \n",
      " 5   doornumber        205 non-null    object \n",
      " 6   carbody           205 non-null    object \n",
      " 7   drivewheel        205 non-null    object \n",
      " 8   enginelocation    205 non-null    object \n",
      " 9   wheelbase         205 non-null    float64\n",
      " 10  carlength         205 non-null    float64\n",
      " 11  carwidth          205 non-null    float64\n",
      " 12  carheight         205 non-null    float64\n",
      " 13  curbweight        205 non-null    int64  \n",
      " 14  enginetype        205 non-null    object \n",
      " 15  cylindernumber    205 non-null    object \n",
      " 16  enginesize        205 non-null    int64  \n",
      " 17  fuelsystem        205 non-null    object \n",
      " 18  boreratio         205 non-null    float64\n",
      " 19  stroke            205 non-null    float64\n",
      " 20  compressionratio  205 non-null    float64\n",
      " 21  horsepower        205 non-null    int64  \n",
      " 22  peakrpm           205 non-null    int64  \n",
      " 23  citympg           205 non-null    int64  \n",
      " 24  highwaympg        205 non-null    int64  \n",
      " 25  price             205 non-null    float64\n",
      "dtypes: float64(8), int64(8), object(10)\n",
      "memory usage: 41.8+ KB\n",
      "None\n",
      "\n",
      "Dataset Head:\n",
      "   car_ID  symboling                   CarName fueltype aspiration doornumber  \\\n",
      "0       1          3        alfa-romero giulia      gas        std        two   \n",
      "1       2          3       alfa-romero stelvio      gas        std        two   \n",
      "2       3          1  alfa-romero Quadrifoglio      gas        std        two   \n",
      "3       4          2               audi 100 ls      gas        std       four   \n",
      "4       5          2                audi 100ls      gas        std       four   \n",
      "\n",
      "       carbody drivewheel enginelocation  wheelbase  ...  enginesize  \\\n",
      "0  convertible        rwd          front       88.6  ...         130   \n",
      "1  convertible        rwd          front       88.6  ...         130   \n",
      "2    hatchback        rwd          front       94.5  ...         152   \n",
      "3        sedan        fwd          front       99.8  ...         109   \n",
      "4        sedan        4wd          front       99.4  ...         136   \n",
      "\n",
      "   fuelsystem  boreratio  stroke compressionratio horsepower  peakrpm citympg  \\\n",
      "0        mpfi       3.47    2.68              9.0        111     5000      21   \n",
      "1        mpfi       3.47    2.68              9.0        111     5000      21   \n",
      "2        mpfi       2.68    3.47              9.0        154     5000      19   \n",
      "3        mpfi       3.19    3.40             10.0        102     5500      24   \n",
      "4        mpfi       3.19    3.40              8.0        115     5500      18   \n",
      "\n",
      "   highwaympg    price  \n",
      "0          27  13495.0  \n",
      "1          27  16500.0  \n",
      "2          26  16500.0  \n",
      "3          30  13950.0  \n",
      "4          22  17450.0  \n",
      "\n",
      "[5 rows x 26 columns]\n",
      "\n",
      "Missing Values:\n",
      "car_ID              0\n",
      "symboling           0\n",
      "CarName             0\n",
      "fueltype            0\n",
      "aspiration          0\n",
      "doornumber          0\n",
      "carbody             0\n",
      "drivewheel          0\n",
      "enginelocation      0\n",
      "wheelbase           0\n",
      "carlength           0\n",
      "carwidth            0\n",
      "carheight           0\n",
      "curbweight          0\n",
      "enginetype          0\n",
      "cylindernumber      0\n",
      "enginesize          0\n",
      "fuelsystem          0\n",
      "boreratio           0\n",
      "stroke              0\n",
      "compressionratio    0\n",
      "horsepower          0\n",
      "peakrpm             0\n",
      "citympg             0\n",
      "highwaympg          0\n",
      "price               0\n",
      "dtype: int64\n",
      "\n",
      "Number of duplicate rows: 0\n",
      "\n",
      "Data Preprocessing Complete. Ready for modeling!\n"
     ]
    }
   ],
   "source": [
    "# Importing necessary libraries\n",
    "import pandas as pd\n",
    "import numpy as np\n",
    "from sklearn.model_selection import train_test_split\n",
    "from sklearn.preprocessing import StandardScaler\n",
    "\n",
    "# Load the dataset\n",
    "car_data = pd.read_csv('CarPrice_Assignment.csv')\n",
    "\n",
    "# Inspect the dataset\n",
    "print(\"Dataset Info:\")\n",
    "print(car_data.info())\n",
    "print(\"\\nDataset Head:\")\n",
    "print(car_data.head())\n",
    "\n",
    "# Check for missing values\n",
    "print(\"\\nMissing Values:\")\n",
    "print(car_data.isnull().sum())\n",
    "\n",
    "# Check for duplicates\n",
    "duplicates = car_data.duplicated().sum()\n",
    "print(f\"\\nNumber of duplicate rows: {duplicates}\")\n",
    "car_data = car_data.drop_duplicates()\n",
    "\n",
    "# Drop irrelevant columns (example: Car_ID)\n",
    "if 'Car_ID' in car_data.columns:\n",
    "    car_data.drop(columns=['Car_ID'], inplace=True)\n",
    "\n",
    "# Convert categorical variables to numerical (e.g., one-hot encoding for \"CarName\")\n",
    "car_data = pd.get_dummies(car_data, drop_first=True)\n",
    "\n",
    "# Split the data into features and target variable\n",
    "X = car_data.drop(columns=['price'])\n",
    "y = car_data['price']\n",
    "\n",
    "# Perform train-test split\n",
    "X_train, X_test, y_train, y_test = train_test_split(X, y, test_size=0.2, random_state=42)\n",
    "\n",
    "# Scale the features\n",
    "scaler = StandardScaler()\n",
    "X_train = scaler.fit_transform(X_train)\n",
    "X_test = scaler.transform(X_test)\n",
    "\n",
    "print(\"\\nData Preprocessing Complete. Ready for modeling!\")"
   ]
  },
  {
   "cell_type": "code",
   "execution_count": 3,
   "id": "aee0e43c-cba7-463d-b4af-4d3a7e6cf615",
   "metadata": {},
   "outputs": [
    {
     "name": "stdout",
     "output_type": "stream",
     "text": [
      "Model Performance Comparison:\n",
      "\n",
      "Linear Regression:\n",
      "R-squared: -5092680174140201573023744.0000\n",
      "MSE: 402036650000742768564696237735936.0000\n",
      "MAE: 11096924181087860.0000\n",
      "\n",
      "Decision Tree Regressor:\n",
      "R-squared: 0.8666\n",
      "MSE: 10532678.5297\n",
      "MAE: 2098.3090\n",
      "\n",
      "Random Forest Regressor:\n",
      "R-squared: 0.9537\n",
      "MSE: 3652007.2005\n",
      "MAE: 1378.8925\n",
      "\n",
      "Gradient Boosting Regressor:\n",
      "R-squared: 0.9316\n",
      "MSE: 5402849.3765\n",
      "MAE: 1685.6164\n",
      "\n",
      "Support Vector Regressor:\n",
      "R-squared: -0.1017\n",
      "MSE: 86973995.1459\n",
      "MAE: 5705.0610\n"
     ]
    }
   ],
   "source": [
    "#Implementation for Regression Models\n",
    "# Import necessary libraries\n",
    "from sklearn.linear_model import LinearRegression\n",
    "from sklearn.tree import DecisionTreeRegressor\n",
    "from sklearn.ensemble import RandomForestRegressor, GradientBoostingRegressor\n",
    "from sklearn.svm import SVR\n",
    "from sklearn.metrics import r2_score, mean_squared_error, mean_absolute_error\n",
    "\n",
    "# Initialize models\n",
    "models = {\n",
    "    \"Linear Regression\": LinearRegression(),\n",
    "    \"Decision Tree Regressor\": DecisionTreeRegressor(random_state=42),\n",
    "    \"Random Forest Regressor\": RandomForestRegressor(random_state=42),\n",
    "    \"Gradient Boosting Regressor\": GradientBoostingRegressor(random_state=42),\n",
    "    \"Support Vector Regressor\": SVR()\n",
    "}\n",
    "\n",
    "# Dictionary to store model performance\n",
    "model_performance = {}\n",
    "\n",
    "# Train and evaluate each model\n",
    "for name, model in models.items():\n",
    "    # Train the model\n",
    "    model.fit(X_train, y_train)\n",
    "    \n",
    "    # Predict on the test set\n",
    "    y_pred = model.predict(X_test)\n",
    "    \n",
    "    # Evaluate performance\n",
    "    r2 = r2_score(y_test, y_pred)\n",
    "    mse = mean_squared_error(y_test, y_pred)\n",
    "    mae = mean_absolute_error(y_test, y_pred)\n",
    "    \n",
    "    # Store results\n",
    "    model_performance[name] = {\"R-squared\": r2, \"MSE\": mse, \"MAE\": mae}\n",
    "\n",
    "# Display model performance\n",
    "print(\"Model Performance Comparison:\")\n",
    "for model_name, metrics in model_performance.items():\n",
    "    print(f\"\\n{model_name}:\")\n",
    "    for metric_name, value in metrics.items():\n",
    "        print(f\"{metric_name}: {value:.4f}\")"
   ]
  },
  {
   "cell_type": "code",
   "execution_count": 5,
   "id": "61dad8c2-06c8-4325-98bc-0c92b96ed815",
   "metadata": {},
   "outputs": [
    {
     "name": "stdout",
     "output_type": "stream",
     "text": [
      "Model Performance Metrics:\n",
      "\n",
      "Model                          R-squared       MSE             MAE            \n",
      "-----------------------------------------------------------------\n",
      "Linear Regression              -5092680174140201573023744.0000 402036650000742768564696237735936.0000 11096924181087860.0000\n",
      "Decision Tree Regressor        0.8666          10532678.5297   2098.3090      \n",
      "Random Forest Regressor        0.9537          3652007.2005    1378.8925      \n",
      "Gradient Boosting Regressor    0.9316          5402849.3765    1685.6164      \n",
      "Support Vector Regressor       -0.1017         86973995.1459   5705.0610      \n"
     ]
    }
   ],
   "source": [
    "#Model Evaluation\n",
    "# Evaluate and compare model performance\n",
    "print(\"Model Performance Metrics:\\n\")\n",
    "print(f\"{'Model':<30} {'R-squared':<15} {'MSE':<15} {'MAE':<15}\")\n",
    "print(\"-\" * 65)\n",
    "\n",
    "for model_name, metrics in model_performance.items():\n",
    "    r2 = metrics[\"R-squared\"]\n",
    "    mse = metrics[\"MSE\"]\n",
    "    mae = metrics[\"MAE\"]\n",
    "    print(f\"{model_name:<30} {r2:<15.4f} {mse:<15.4f} {mae:<15.4f}\")"
   ]
  },
  {
   "cell_type": "code",
   "execution_count": 7,
   "id": "e1c69c50-b596-4c66-94b8-1f0281a1e771",
   "metadata": {},
   "outputs": [
    {
     "name": "stderr",
     "output_type": "stream",
     "text": [
      "C:\\Users\\RAJAGIRI ATL\\AppData\\Local\\Temp\\ipykernel_19040\\3028799828.py:21: FutureWarning: \n",
      "\n",
      "Passing `palette` without assigning `hue` is deprecated and will be removed in v0.14.0. Assign the `y` variable to `hue` and set `legend=False` for the same effect.\n",
      "\n",
      "  sns.barplot(x='Importance', y='Feature', data=importance_df.head(10), palette='viridis')\n"
     ]
    },
    {
     "data": {
      "image/png": "[encoded data removed]",
      "text/plain": [
       "<Figure size 1000x600 with 1 Axes>"
      ]
     },
     "metadata": {},
     "output_type": "display_data"
    },
    {
     "name": "stdout",
     "output_type": "stream",
     "text": [
      "Feature Importances:\n",
      "                              Feature  Importance\n",
      "7                          enginesize    0.549018\n",
      "6                          curbweight    0.293698\n",
      "14                         highwaympg    0.041858\n",
      "11                         horsepower    0.028179\n",
      "0                              car_ID    0.019694\n",
      "..                                ...         ...\n",
      "131  CarName_toyota corolla 1600 (sw)    0.000000\n",
      "60        CarName_isuzu D-Max V-Cross    0.000000\n",
      "143          CarName_vokswagen rabbit    0.000000\n",
      "93               CarName_nissan nv200    0.000000\n",
      "119               CarName_subaru baja    0.000000\n",
      "\n",
      "[190 rows x 2 columns]\n"
     ]
    }
   ],
   "source": [
    "#Feature Importance Analysis\n",
    "import matplotlib.pyplot as plt\n",
    "import seaborn as sns\n",
    "\n",
    "# Train Random Forest for feature importance analysis\n",
    "random_forest = RandomForestRegressor(random_state=42)\n",
    "random_forest.fit(X_train, y_train)\n",
    "\n",
    "# Extract feature importance\n",
    "feature_importance = random_forest.feature_importances_\n",
    "feature_names = X.columns\n",
    "\n",
    "# Create a DataFrame for visualization\n",
    "importance_df = pd.DataFrame({\n",
    "    'Feature': feature_names,\n",
    "    'Importance': feature_importance\n",
    "}).sort_values(by='Importance', ascending=False)\n",
    "\n",
    "# Plot the top 10 important features\n",
    "plt.figure(figsize=(10, 6))\n",
    "sns.barplot(x='Importance', y='Feature', data=importance_df.head(10), palette='viridis')\n",
    "plt.title('Top 10 Important Features')\n",
    "plt.xlabel('Importance Score')\n",
    "plt.ylabel('Feature')\n",
    "plt.tight_layout()\n",
    "plt.show()\n",
    "\n",
    "# Print all feature importances\n",
    "print(\"Feature Importances:\")\n",
    "print(importance_df)"
   ]
  },
  {
   "cell_type": "code",
   "execution_count": 10,
   "id": "5f06c4e0-0d44-47fe-8982-78217ce4c49a",
   "metadata": {},
   "outputs": [
    {
     "name": "stdout",
     "output_type": "stream",
     "text": [
      "Fitting 3 folds for each of 108 candidates, totalling 324 fits\n",
      "Best Hyperparameters: {'max_depth': 10, 'min_samples_leaf': 1, 'min_samples_split': 10, 'n_estimators': 200}\n"
     ]
    }
   ],
   "source": [
    "#Hyperparameter Tuning\n",
    "from sklearn.model_selection import GridSearchCV\n",
    "\n",
    "# Define the Random Forest model\n",
    "rf = RandomForestRegressor(random_state=42)\n",
    "\n",
    "# Define the hyperparameter grid\n",
    "param_grid = {\n",
    "    'n_estimators': [50, 100, 200],\n",
    "    'max_depth': [None, 10, 20, 30],\n",
    "    'min_samples_split': [2, 5, 10],\n",
    "    'min_samples_leaf': [1, 2, 4]\n",
    "}\n",
    "\n",
    "# Perform Grid Search with 3-fold cross-validation\n",
    "grid_search = GridSearchCV(estimator=rf, param_grid=param_grid, cv=3, scoring='r2', n_jobs=-1, verbose=2)\n",
    "grid_search.fit(X_train, y_train)\n",
    "\n",
    "# Extract the best parameters and model\n",
    "best_params = grid_search.best_params_\n",
    "best_rf_model = grid_search.best_estimator_\n",
    "\n",
    "# Evaluate the best model\n",
    "y_pred = best_rf_model.predict(X_test)\n",
    "r2 = r2_score(y_test, y_pred)\n",
    "mse = mean_squared_error(y_test, y_pred)\n",
    "mae = mean_absolute_error(y_test, y_pred)\n",
    "\n",
    "# Display results\n",
    "print(\"Best Hyperparameters:\", best_params)"
   ]
  },
  {
   "cell_type": "code",
   "execution_count": 11,
   "id": "2657a29a-e3ac-4508-9cca-314ced732c4b",
   "metadata": {},
   "outputs": [
    {
     "name": "stdout",
     "output_type": "stream",
     "text": [
      "\n",
      "Performance of the Tuned Random Forest Model:\n"
     ]
    }
   ],
   "source": [
    "print(\"\\nPerformance of the Tuned Random Forest Model:\")"
   ]
  },
  {
   "cell_type": "code",
   "execution_count": 14,
   "id": "7d02e186-9429-499e-836f-0450442ffccb",
   "metadata": {},
   "outputs": [
    {
     "name": "stdout",
     "output_type": "stream",
     "text": [
      "R-squared: 0.9425\n"
     ]
    }
   ],
   "source": [
    "print(f\"R-squared: {r2:.4f}\")"
   ]
  },
  {
   "cell_type": "code",
   "execution_count": 16,
   "id": "42e584a8-0506-48dd-bd6a-5c93ee4d646f",
   "metadata": {},
   "outputs": [
    {
     "name": "stdout",
     "output_type": "stream",
     "text": [
      "Mean Squared Error (MSE): 4541322.2821\n"
     ]
    }
   ],
   "source": [
    "print(f\"Mean Squared Error (MSE): {mse:.4f}\")"
   ]
  },
  {
   "cell_type": "code",
   "execution_count": 18,
   "id": "5068e97a-f8e0-4115-bc7f-0ffc85b0f600",
   "metadata": {},
   "outputs": [
    {
     "name": "stdout",
     "output_type": "stream",
     "text": [
      "Mean Absolute Error (MAE): 1485.9455\n"
     ]
    }
   ],
   "source": [
    "print(f\"Mean Absolute Error (MAE): {mae:.4f}\")"
   ]
  },
  {
   "cell_type": "code",
   "execution_count": null,
   "id": "24224697-1a9f-4214-926b-c547b76ad289",
   "metadata": {},
   "outputs": [],
   "source": []
  }
 ],
 "metadata": {
  "kernelspec": {
   "display_name": "Python 3 (ipykernel)",
   "language": "python",
   "name": "python3"
  },
  "language_info": {
   "codemirror_mode": {
    "name": "ipython",
    "version": 3
   },
   "file_extension": ".py",
   "mimetype": "text/x-python",
   "name": "python",
   "nbconvert_exporter": "python",
   "pygments_lexer": "ipython3",
   "version": "3.12.4"
  }
 },
 "nbformat": 4,
 "nbformat_minor": 5
}
